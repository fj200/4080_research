{
 "cells": [
  {
   "cell_type": "code",
   "execution_count": 5,
   "metadata": {},
   "outputs": [
    {
     "name": "stdout",
     "output_type": "stream",
     "text": [
      "Requirement already satisfied: numpy in c:\\users\\user\\appdata\\local\\packages\\pythonsoftwarefoundation.python.3.10_qbz5n2kfra8p0\\localcache\\local-packages\\python310\\site-packages (1.26.0)\n",
      "Requirement already satisfied: scikit-learn in c:\\users\\user\\appdata\\local\\packages\\pythonsoftwarefoundation.python.3.10_qbz5n2kfra8p0\\localcache\\local-packages\\python310\\site-packages (1.3.2)\n",
      "Requirement already satisfied: pandas in c:\\users\\user\\appdata\\local\\packages\\pythonsoftwarefoundation.python.3.10_qbz5n2kfra8p0\\localcache\\local-packages\\python310\\site-packages (2.1.1)\n",
      "Requirement already satisfied: nltk in c:\\users\\user\\appdata\\local\\packages\\pythonsoftwarefoundation.python.3.10_qbz5n2kfra8p0\\localcache\\local-packages\\python310\\site-packages (3.9.1)\n",
      "Requirement already satisfied: scipy>=1.5.0 in c:\\users\\user\\appdata\\local\\packages\\pythonsoftwarefoundation.python.3.10_qbz5n2kfra8p0\\localcache\\local-packages\\python310\\site-packages (from scikit-learn) (1.11.3)\n",
      "Requirement already satisfied: joblib>=1.1.1 in c:\\users\\user\\appdata\\local\\packages\\pythonsoftwarefoundation.python.3.10_qbz5n2kfra8p0\\localcache\\local-packages\\python310\\site-packages (from scikit-learn) (1.3.2)\n",
      "Requirement already satisfied: threadpoolctl>=2.0.0 in c:\\users\\user\\appdata\\local\\packages\\pythonsoftwarefoundation.python.3.10_qbz5n2kfra8p0\\localcache\\local-packages\\python310\\site-packages (from scikit-learn) (3.2.0)\n",
      "Requirement already satisfied: python-dateutil>=2.8.2 in c:\\users\\user\\appdata\\local\\packages\\pythonsoftwarefoundation.python.3.10_qbz5n2kfra8p0\\localcache\\local-packages\\python310\\site-packages (from pandas) (2.8.2)\n",
      "Requirement already satisfied: pytz>=2020.1 in c:\\users\\user\\appdata\\local\\packages\\pythonsoftwarefoundation.python.3.10_qbz5n2kfra8p0\\localcache\\local-packages\\python310\\site-packages (from pandas) (2023.3.post1)\n",
      "Requirement already satisfied: tzdata>=2022.1 in c:\\users\\user\\appdata\\local\\packages\\pythonsoftwarefoundation.python.3.10_qbz5n2kfra8p0\\localcache\\local-packages\\python310\\site-packages (from pandas) (2023.3)\n",
      "Requirement already satisfied: click in c:\\users\\user\\appdata\\local\\packages\\pythonsoftwarefoundation.python.3.10_qbz5n2kfra8p0\\localcache\\local-packages\\python310\\site-packages (from nltk) (8.1.3)\n",
      "Requirement already satisfied: regex>=2021.8.3 in c:\\users\\user\\appdata\\local\\packages\\pythonsoftwarefoundation.python.3.10_qbz5n2kfra8p0\\localcache\\local-packages\\python310\\site-packages (from nltk) (2024.7.24)\n",
      "Requirement already satisfied: tqdm in c:\\users\\user\\appdata\\local\\packages\\pythonsoftwarefoundation.python.3.10_qbz5n2kfra8p0\\localcache\\local-packages\\python310\\site-packages (from nltk) (4.66.1)\n",
      "Requirement already satisfied: six>=1.5 in c:\\users\\user\\appdata\\local\\packages\\pythonsoftwarefoundation.python.3.10_qbz5n2kfra8p0\\localcache\\local-packages\\python310\\site-packages (from python-dateutil>=2.8.2->pandas) (1.16.0)\n",
      "Requirement already satisfied: colorama in c:\\users\\user\\appdata\\local\\packages\\pythonsoftwarefoundation.python.3.10_qbz5n2kfra8p0\\localcache\\local-packages\\python310\\site-packages (from click->nltk) (0.4.6)\n",
      "Note: you may need to restart the kernel to use updated packages.\n"
     ]
    },
    {
     "name": "stderr",
     "output_type": "stream",
     "text": [
      "\n",
      "[notice] A new release of pip is available: 24.0 -> 24.3.1\n",
      "[notice] To update, run: C:\\Users\\User\\AppData\\Local\\Microsoft\\WindowsApps\\PythonSoftwareFoundation.Python.3.10_qbz5n2kfra8p0\\python.exe -m pip install --upgrade pip\n"
     ]
    }
   ],
   "source": [
    "%pip install numpy scikit-learn pandas nltk\n"
   ]
  },
  {
   "cell_type": "markdown",
   "metadata": {},
   "source": [
    "Question type of the parent question. 1 for conceptual questions, 2 for how-to questions, 3 for debug-corrective questions (Integer)"
   ]
  },
  {
   "cell_type": "code",
   "execution_count": 6,
   "metadata": {},
   "outputs": [
    {
     "name": "stderr",
     "output_type": "stream",
     "text": [
      "[nltk_data] Downloading package punkt to\n",
      "[nltk_data]     C:\\Users\\User\\AppData\\Roaming\\nltk_data...\n",
      "[nltk_data]   Package punkt is already up-to-date!\n",
      "[nltk_data] Downloading package punkt_tab to\n",
      "[nltk_data]     C:\\Users\\User\\AppData\\Roaming\\nltk_data...\n",
      "[nltk_data]   Package punkt_tab is already up-to-date!\n",
      "[nltk_data] Downloading package wordnet to\n",
      "[nltk_data]     C:\\Users\\User\\AppData\\Roaming\\nltk_data...\n",
      "[nltk_data]   Package wordnet is already up-to-date!\n",
      "[nltk_data] Downloading package stopwords to\n",
      "[nltk_data]     C:\\Users\\User\\AppData\\Roaming\\nltk_data...\n",
      "[nltk_data]   Package stopwords is already up-to-date!\n"
     ]
    },
    {
     "data": {
      "text/plain": [
       "True"
      ]
     },
     "execution_count": 6,
     "metadata": {},
     "output_type": "execute_result"
    }
   ],
   "source": [
    "import pickle\n",
    "import numpy as np\n",
    "import re\n",
    "import pandas as pd\n",
    "from sklearn.feature_extraction.text import TfidfVectorizer\n",
    "from sklearn.model_selection import train_test_split, cross_val_score\n",
    "from sklearn.svm import SVC\n",
    "from sklearn.metrics import accuracy_score, classification_report\n",
    "from nltk.corpus import stopwords\n",
    "from nltk.stem import WordNetLemmatizer\n",
    "from nltk import download\n",
    "\n",
    "download('punkt') # Download the 'punkt' resource\n",
    "download('punkt_tab')\n",
    "download('wordnet') # Download the 'wordnet' resource\n",
    "download('stopwords')"
   ]
  },
  {
   "cell_type": "code",
   "execution_count": 8,
   "metadata": {},
   "outputs": [
    {
     "name": "stdout",
     "output_type": "stream",
     "text": [
      "Table of Question Titles and Types:\n",
      "                                       Question Title  Question Type\n",
      "0             How do I calculate someone's age in C#?              2\n",
      "4    What are MVP and MVC and what is the difference?              1\n",
      "7   How do you printf an unsigned long long int(th...              2\n",
      "10                      What is Inversion of Control?              1\n",
      "15  IllegalArgumentException or NullPointerExcepti...              3\n",
      "20                       C# loop - break vs. continue              1\n",
      "29                             Hidden Features of C#?              1\n",
      "33  What's the best way to validate an XML file ag...              1\n",
      "37  What is the difference between #include <filen...              1\n",
      "38  Reading from text file until EOF repeats last ...              3\n",
      "44  What issues should be considered when overridi...              1\n",
      "45      Regular cast vs. static_cast vs. dynamic_cast              1\n",
      "51   Why am I getting a NoClassDefFoundError in Java?              3\n",
      "53                          What is a race condition?              1\n",
      "59                  How do I fix a NoSuchMethodError?              3\n",
      "62  What is the Difference Between Mercurial and Git?              1\n",
      "67  What is the syntax for an inner join in LINQ t...              1\n",
      "69  What is the argument for printf that formats a...              1\n",
      "72          What is the yield keyword used for in C#?              1\n",
      "80  What is the command to truncate a SQL Server l...              1\n",
      "\n",
      "Distribution of Question Types:\n",
      "       Question Type  Count\n",
      "0                  2    379\n",
      "1                  3    245\n",
      "2                  1    241\n",
      "Total            865    865\n"
     ]
    }
   ],
   "source": [
    "data = []\n",
    "# Load data from the pickle file\n",
    "with open(\"data.pkl\", \"rb\") as file:\n",
    "    data = pickle.load(file)\n",
    "\n",
    "\n",
    "df = pd.DataFrame(data)\n",
    "df = df.drop_duplicates(subset='question_id')\n",
    "df.to_csv('so_question_with_type.csv', index=False)\n",
    "\n",
    "# Extract features (question titles) and labels (question types)\n",
    "titles = df[\"question_title\"] \n",
    "labels = df[\"question_type\"]\n",
    "\n",
    "df_questions = pd.DataFrame({\n",
    "    'Question Title': titles,\n",
    "    'Question Type': labels\n",
    "})\n",
    "\n",
    "print(\"Table of Question Titles and Types:\")\n",
    "print(df_questions.head(20))\n",
    "\n",
    "question_type_counts = pd.DataFrame(df_questions['Question Type'].value_counts()).reset_index()\n",
    "question_type_counts.columns = ['Question Type', 'Count']\n",
    "question_type_counts.loc['Total'] = question_type_counts['Count'].sum()\n",
    "print(\"\\nDistribution of Question Types:\")\n",
    "print(question_type_counts)\n",
    "\n",
    "\n"
   ]
  },
  {
   "cell_type": "code",
   "execution_count": 9,
   "metadata": {},
   "outputs": [
    {
     "name": "stdout",
     "output_type": "stream",
     "text": [
      "Development Set Accuracy: 0.57\n",
      "Test Set Accuracy: 0.55\n",
      "Classification Report on Test Set:\n",
      "              precision    recall  f1-score   support\n",
      "\n",
      "      how-to       0.91      0.32      0.48        31\n",
      "  conceptual       0.51      0.87      0.64        38\n",
      "  bug-fixing       0.45      0.28      0.34        18\n",
      "\n",
      "    accuracy                           0.55        87\n",
      "   macro avg       0.62      0.49      0.49        87\n",
      "weighted avg       0.64      0.55      0.52        87\n",
      "\n"
     ]
    }
   ],
   "source": [
    "vectorizer = TfidfVectorizer(max_features=5000, ngram_range=(1, 2), stop_words='english')\n",
    "X = vectorizer.fit_transform(titles)\n",
    "y = np.array(labels)\n",
    "\n",
    "# Split the data into train (80%), dev (10%), and test (10%) sets\n",
    "X_train, X_temp, y_train, y_temp = train_test_split(X, y, test_size=0.2, random_state=42)\n",
    "X_dev, X_test, y_dev, y_test = train_test_split(X_temp, y_temp, test_size=0.5, random_state=42)\n",
    "\n",
    "# Train the SVM classifier\n",
    "svm_model = SVC(kernel='linear', probability=True, random_state=42)\n",
    "svm_model.fit(X_train, y_train)\n",
    "\n",
    "y_dev_pred = svm_model.predict(X_dev)\n",
    "dev_accuracy = accuracy_score(y_dev, y_dev_pred)\n",
    "print(f\"Development Set Accuracy: {dev_accuracy:.2f}\")\n",
    "\n",
    "y_test_pred = svm_model.predict(X_test)\n",
    "test_accuracy = accuracy_score(y_test, y_test_pred)\n",
    "print(f\"Test Set Accuracy: {test_accuracy:.2f}\")\n",
    "print(\"Classification Report on Test Set:\")\n",
    "print(classification_report(y_test, y_test_pred, target_names=[\"how-to\", \"conceptual\", \"bug-fixing\"]))\n",
    "\n",
    "# with open(\"svm_question_classifier.pkl\", \"wb\") as model_file:\n",
    "#     pickle.dump(svm_model, model_file)\n"
   ]
  },
  {
   "cell_type": "code",
   "execution_count": null,
   "metadata": {},
   "outputs": [],
   "source": [
    "# with open('question_classifier.pkl', 'rb') as model_file:\n",
    "#     model = pickle.load(model_file)\n",
    "\n",
    "# y_dev_pred = model.predict(X_dev.toarray())\n",
    "# y_test_pred = model.predict(X_test.toarray())\n",
    "\n",
    "# print(\"Dev Dataset Evaluation:\")\n",
    "# print(f\"Accuracy: {accuracy_score(y_dev, y_dev_pred):.4f}\")\n",
    "# print(classification_report(y_dev, y_dev_pred))\n",
    "\n",
    "# print(\"\\nTest Dataset Evaluation:\")\n",
    "# print(f\"Accuracy: {accuracy_score(y_test, y_test_pred):.4f}\")\n",
    "# print(classification_report(y_test, y_test_pred))"
   ]
  }
 ],
 "metadata": {
  "kernelspec": {
   "display_name": "Python 3",
   "language": "python",
   "name": "python3"
  },
  "language_info": {
   "codemirror_mode": {
    "name": "ipython",
    "version": 3
   },
   "file_extension": ".py",
   "mimetype": "text/x-python",
   "name": "python",
   "nbconvert_exporter": "python",
   "pygments_lexer": "ipython3",
   "version": "3.10.11"
  }
 },
 "nbformat": 4,
 "nbformat_minor": 2
}
